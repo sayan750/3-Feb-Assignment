{
 "cells": [
  {
   "cell_type": "markdown",
   "id": "63f311a8",
   "metadata": {},
   "source": [
    "### Q1. The def() function is used to create a function."
   ]
  },
  {
   "cell_type": "code",
   "execution_count": 23,
   "id": "03723e34",
   "metadata": {},
   "outputs": [],
   "source": [
    "def odd(*o):\n",
    "    j = []\n",
    "    for i in range(1,25):\n",
    "        if i%2!=0:\n",
    "            j.append(i)\n",
    "    return j        "
   ]
  },
  {
   "cell_type": "code",
   "execution_count": 24,
   "id": "e824bed6",
   "metadata": {},
   "outputs": [
    {
     "data": {
      "text/plain": [
       "[1, 3, 5, 7, 9, 11, 13, 15, 17, 19, 21, 23]"
      ]
     },
     "execution_count": 24,
     "metadata": {},
     "output_type": "execute_result"
    }
   ],
   "source": [
    "odd(1,25)"
   ]
  },
  {
   "cell_type": "markdown",
   "id": "a79c5dcd",
   "metadata": {},
   "source": [
    "### Q2. In Python, the special syntax \"args\" can be used in function definitions to pass a variable number of positional arguments to the function. Using \"*args\" can be helpful when you don't know how many arguments you will need to pass to a function ahead of time, or when you want to make your function more flexible by allowing it to accept a variable number of arguments.\n",
    "\n",
    "### ****kwargs In Python, the double-asterisk syntax (\"******\") can be used in function definitions to pass a variable number of keyword arguments to the function. "
   ]
  },
  {
   "cell_type": "code",
   "execution_count": 28,
   "id": "aa83f06a",
   "metadata": {},
   "outputs": [],
   "source": [
    "## *args using\n",
    "\n",
    "def fruit(*args):\n",
    "    return args"
   ]
  },
  {
   "cell_type": "code",
   "execution_count": 32,
   "id": "f5f9e423",
   "metadata": {},
   "outputs": [
    {
     "data": {
      "text/plain": [
       "('apple', 'guava', 'lichi')"
      ]
     },
     "execution_count": 32,
     "metadata": {},
     "output_type": "execute_result"
    }
   ],
   "source": [
    "fruit(\"apple\", \"guava\", \"lichi\")"
   ]
  },
  {
   "cell_type": "code",
   "execution_count": 33,
   "id": "53f21373",
   "metadata": {},
   "outputs": [],
   "source": [
    "## **kwargs using\n",
    "\n",
    "def opp(**kwargs):\n",
    "    return [1,2,3,4,5], 7,8, \"sayan\", [6,7,8], [9,10,11]"
   ]
  },
  {
   "cell_type": "code",
   "execution_count": 34,
   "id": "f91ac077",
   "metadata": {},
   "outputs": [
    {
     "data": {
      "text/plain": [
       "([1, 2, 3, 4, 5], 7, 8, 'sayan', [6, 7, 8], [9, 10, 11])"
      ]
     },
     "execution_count": 34,
     "metadata": {},
     "output_type": "execute_result"
    }
   ],
   "source": [
    "opp()"
   ]
  },
  {
   "cell_type": "markdown",
   "id": "b34f6db9",
   "metadata": {},
   "source": [
    "### Q3. An iterator in python is an object that can be iterated (looped) upon, meaning that you can traverse through all the values.\n",
    "\n",
    "### The method used to initialize the iterator object is iter() and the method used for iteration is next()."
   ]
  },
  {
   "cell_type": "code",
   "execution_count": 66,
   "id": "c7a104dc",
   "metadata": {},
   "outputs": [
    {
     "name": "stdout",
     "output_type": "stream",
     "text": [
      "2\n",
      "4\n",
      "6\n",
      "8\n",
      "10\n"
     ]
    }
   ],
   "source": [
    "# initialize the iterator object\n",
    "t = [2, 4, 6, 8, 10, 12, 14, 16, 18, 20]\n",
    "r = iter(t)\n",
    "\n",
    "# iterate through the first five elements of the list\n",
    "for i in range(5):\n",
    "    print(next(r))"
   ]
  },
  {
   "cell_type": "markdown",
   "id": "327b279d",
   "metadata": {},
   "source": [
    "### Q4. A generator function in Python is a special type of function that can be used to create an iterator. A generator function uses the yield keyword to temporarily pause the execution of the function. \n",
    "\n",
    "### The yield keyword is used to produce a value from the generator function and to pause the execution of the generator function. When the generator function is called again, execution resumes from where it left off."
   ]
  },
  {
   "cell_type": "code",
   "execution_count": 69,
   "id": "d230d39c",
   "metadata": {},
   "outputs": [],
   "source": [
    "g = [1, 2, 3, 4, 5, 6, 7, 8, 9, 10]\n",
    "\n",
    "def even(g):\n",
    "    for i in g:\n",
    "        if i%2==0:\n",
    "            yield i"
   ]
  },
  {
   "cell_type": "code",
   "execution_count": 70,
   "id": "d062e809",
   "metadata": {},
   "outputs": [
    {
     "name": "stdout",
     "output_type": "stream",
     "text": [
      "2\n",
      "4\n",
      "6\n",
      "8\n",
      "10\n"
     ]
    }
   ],
   "source": [
    "for i in even(g):\n",
    "    print(i)"
   ]
  },
  {
   "cell_type": "markdown",
   "id": "38e64a15",
   "metadata": {},
   "source": [
    "### Q5."
   ]
  },
  {
   "cell_type": "code",
   "execution_count": 71,
   "id": "1f84ab1a",
   "metadata": {},
   "outputs": [],
   "source": [
    "def prime_numbers():\n",
    "    yield 2\n",
    "    n = 3\n",
    "    while n < 1000:\n",
    "        for i in range(2, int(n**0.5)+1):\n",
    "            if n % i == 0:\n",
    "                break\n",
    "        else:\n",
    "            yield n\n",
    "        n += 2"
   ]
  },
  {
   "cell_type": "code",
   "execution_count": 72,
   "id": "4cf516e3",
   "metadata": {},
   "outputs": [
    {
     "name": "stdout",
     "output_type": "stream",
     "text": [
      "2\n",
      "3\n",
      "5\n",
      "7\n",
      "11\n",
      "13\n",
      "17\n",
      "19\n",
      "23\n",
      "29\n",
      "31\n",
      "37\n",
      "41\n",
      "43\n",
      "47\n",
      "53\n",
      "59\n",
      "61\n",
      "67\n",
      "71\n"
     ]
    }
   ],
   "source": [
    "my_generator = prime_numbers()\n",
    "for i in range(20):\n",
    "    print(next(my_generator))"
   ]
  },
  {
   "cell_type": "code",
   "execution_count": null,
   "id": "74d024c9",
   "metadata": {},
   "outputs": [],
   "source": []
  }
 ],
 "metadata": {
  "kernelspec": {
   "display_name": "Python 3 (ipykernel)",
   "language": "python",
   "name": "python3"
  },
  "language_info": {
   "codemirror_mode": {
    "name": "ipython",
    "version": 3
   },
   "file_extension": ".py",
   "mimetype": "text/x-python",
   "name": "python",
   "nbconvert_exporter": "python",
   "pygments_lexer": "ipython3",
   "version": "3.9.12"
  }
 },
 "nbformat": 4,
 "nbformat_minor": 5
}
